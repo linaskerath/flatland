{
  "nbformat": 4,
  "nbformat_minor": 0,
  "metadata": {
    "colab": {
      "name": "Flatland.ipynb",
      "provenance": [],
      "collapsed_sections": []
    },
    "kernelspec": {
      "name": "python3",
      "display_name": "Python 3"
    },
    "accelerator": "GPU"
  },
  "cells": [
    {
      "cell_type": "code",
      "metadata": {
        "id": "iudEQdinB3RE",
        "colab": {
          "base_uri": "https://localhost:8080/"
        },
        "outputId": "e499e53c-6249-43d0-e536-cc2279cb8a90"
      },
      "source": [
        "import tensorflow.keras as keras\n",
        "from tensorflow.keras.layers import Dense, Input\n",
        "from tensorflow.keras.models import Sequential\n",
        "from tensorflow.keras.optimizers import Adam\n",
        "import matplotlib.pyplot as plt\n",
        "import numpy as np\n",
        "import pandas as pd\n",
        "from google.colab import drive\n",
        "import pickle\n",
        "import gzip\n",
        "\n",
        "drive.mount('/content/drive')"
      ],
      "execution_count": null,
      "outputs": [
        {
          "output_type": "stream",
          "text": [
            "Drive already mounted at /content/drive; to attempt to forcibly remount, call drive.mount(\"/content/drive\", force_remount=True).\n"
          ],
          "name": "stdout"
        }
      ]
    },
    {
      "cell_type": "code",
      "metadata": {
        "id": "RXSE46Hwxfb8"
      },
      "source": [
        "X, y = pickle.load(gzip.open('/content/drive/My Drive/flatland/flatland_train.data', 'rb'))\n",
        "y[y != 0] -= 2\n",
        "#X = X/255. # nes pixel values oof\n",
        "\n",
        "#for i in range(20):\n",
        "#    plt.subplot(5, 4, i+1)\n",
        " #   plt.imshow(X[i]) "
      ],
      "execution_count": null,
      "outputs": []
    },
    {
      "cell_type": "code",
      "metadata": {
        "colab": {
          "base_uri": "https://localhost:8080/",
          "height": 285
        },
        "id": "MMTvEXqFVzlB",
        "outputId": "9ac4d235-b87f-451a-e696-c15aa73bbeee"
      },
      "source": [
        "plt.imshow(X[0])"
      ],
      "execution_count": null,
      "outputs": [
        {
          "output_type": "execute_result",
          "data": {
            "text/plain": [
              "<matplotlib.image.AxesImage at 0x7f9f5da23a90>"
            ]
          },
          "metadata": {
            "tags": []
          },
          "execution_count": 16
        },
        {
          "output_type": "display_data",
          "data": {
            "image/png": "[encoded data removed]",
            "text/plain": [
              "<Figure size 432x288 with 1 Axes>"
            ]
          },
          "metadata": {
            "tags": [],
            "needs_background": "light"
          }
        }
      ]
    },
    {
      "cell_type": "code",
      "metadata": {
        "id": "dzd8OuApPHJv"
      },
      "source": [
        "# neeficient kodas bet oh well\n",
        "aug_X = []\n",
        "\n",
        "for i in range(len(X)):\n",
        "  rotated90 = np.array(list(zip(*X[i][::-1])))\n",
        "  rotated180 = np.array(list(zip(*rotated90[::-1])))\n",
        "  rotated270 = np.array(list(zip(*rotated180[::-1])))\n",
        "  tr_0 = X[i].T\n",
        "  tr_90 = np.array(list(zip(*tr_0[::-1])))\n",
        "  tr_180 = np.array(list(zip(*tr_90[::-1])))\n",
        "  tr_270 = np.array(list(zip(*tr_180[::-1])))\n",
        "\n",
        "\n",
        "  aug_X.extend((rotated90, rotated180, rotated270, tr_0, tr_90, tr_180, tr_270))\n"
      ],
      "execution_count": null,
      "outputs": []
    },
    {
      "cell_type": "code",
      "metadata": {
        "id": "2bv53YFYROy4"
      },
      "source": [
        "X = np.concatenate((X, aug_X))"
      ],
      "execution_count": null,
      "outputs": []
    },
    {
      "cell_type": "code",
      "metadata": {
        "id": "PRVGV-oHPHSq"
      },
      "source": [
        "aug_y = []\n",
        "\n",
        "for i in range(len(y)):\n",
        "  aug_y.extend((y[i], y[i], y[i], y[i], y[i], y[i], y[i]))"
      ],
      "execution_count": null,
      "outputs": []
    },
    {
      "cell_type": "code",
      "metadata": {
        "id": "H7Mh7UbtjVFV"
      },
      "source": [
        "y = np.concatenate((y, aug_y))"
      ],
      "execution_count": null,
      "outputs": []
    },
    {
      "cell_type": "code",
      "metadata": {
        "id": "qgJ8hxE_H1rw"
      },
      "source": [
        "# X[1].shape\n",
        "X = X.reshape(X.shape[0], 50, 50, 1) / 255 "
      ],
      "execution_count": null,
      "outputs": []
    },
    {
      "cell_type": "code",
      "metadata": {
        "id": "rCfJAmKn-eC3"
      },
      "source": [
        "# pakeisti input data tam papildomam testui augmentation\n",
        "# cnn su jau pagaminto cnn pradzia  faaakin didelis modelis gitas sako ne...\n",
        "# paziureti ar veikia tensorflow colabe va sitas liko"
      ],
      "execution_count": null,
      "outputs": []
    },
    {
      "cell_type": "code",
      "metadata": {
        "id": "8CUj_nXK-iTS"
      },
      "source": [
        "# Naujas modelis su cnn"
      ],
      "execution_count": null,
      "outputs": []
    },
    {
      "cell_type": "code",
      "metadata": {
        "id": "TUwX9jdaLL8t"
      },
      "source": [
        "from tensorflow.keras.layers import Dense, Input, Flatten, Conv2D, BatchNormalization, \\\n",
        "                                    Activation, Dropout, MaxPooling2D, MaxPool2D"
      ],
      "execution_count": null,
      "outputs": []
    },
    {
      "cell_type": "code",
      "metadata": {
        "id": "e4y8mRuSSGpJ",
        "colab": {
          "base_uri": "https://localhost:8080/"
        },
        "outputId": "ab548da5-e88c-4800-9e0b-f57f9c2f0355"
      },
      "source": [
        "model = Sequential()\n",
        "model.add(Conv2D(32, kernel_size=(3, 3), activation='relu', input_shape=[50, 50, 1]))\n",
        "#model.add(BatchNormalization(axis=-1)) \n",
        "model.add(Conv2D(64, (3, 3), activation='relu'))\n",
        "model.add(MaxPooling2D(pool_size=(2, 2))) \n",
        "model.add(Dropout(0.35))\n",
        "\n",
        "model.add(Conv2D(128, kernel_size=(3,3), activation=\"relu\"))\n",
        "\n",
        "#model.add(BatchNormalization(axis=-1))\n",
        "\n",
        "#model.add(Conv2D(filters=256, kernel_size=(3,3), padding=\"same\", activation=\"relu\"))\n",
        "\n",
        "model.add(MaxPooling2D(pool_size=(2, 2)))\n",
        "model.add(BatchNormalization(axis=-1))\n",
        "model.add(Flatten())\n",
        "model.add(Dense(128, activation='relu'))\n",
        "model.add(Dropout(0.4))\n",
        "model.add(Dense(10, activation='softmax'))\n",
        "\n",
        "\n",
        "opt = Adam(lr=3e-4) #0.001\n",
        "\n",
        "model.compile(loss=\"sparse_categorical_crossentropy\",\n",
        "              optimizer=opt,\n",
        "              metrics=[\"accuracy\"])\n",
        "model.summary()"
      ],
      "execution_count": null,
      "outputs": [
        {
          "output_type": "stream",
          "text": [
            "Model: \"sequential_1\"\n",
            "_________________________________________________________________\n",
            "Layer (type)                 Output Shape              Param #   \n",
            "=================================================================\n",
            "conv2d_3 (Conv2D)            (None, 48, 48, 32)        320       \n",
            "_________________________________________________________________\n",
            "conv2d_4 (Conv2D)            (None, 46, 46, 64)        18496     \n",
            "_________________________________________________________________\n",
            "max_pooling2d_2 (MaxPooling2 (None, 23, 23, 64)        0         \n",
            "_________________________________________________________________\n",
            "dropout_2 (Dropout)          (None, 23, 23, 64)        0         \n",
            "_________________________________________________________________\n",
            "conv2d_5 (Conv2D)            (None, 21, 21, 128)       73856     \n",
            "_________________________________________________________________\n",
            "max_pooling2d_3 (MaxPooling2 (None, 10, 10, 128)       0         \n",
            "_________________________________________________________________\n",
            "batch_normalization_1 (Batch (None, 10, 10, 128)       512       \n",
            "_________________________________________________________________\n",
            "flatten_1 (Flatten)          (None, 12800)             0         \n",
            "_________________________________________________________________\n",
            "dense_2 (Dense)              (None, 128)               1638528   \n",
            "_________________________________________________________________\n",
            "dropout_3 (Dropout)          (None, 128)               0         \n",
            "_________________________________________________________________\n",
            "dense_3 (Dense)              (None, 10)                1290      \n",
            "=================================================================\n",
            "Total params: 1,733,002\n",
            "Trainable params: 1,732,746\n",
            "Non-trainable params: 256\n",
            "_________________________________________________________________\n"
          ],
          "name": "stdout"
        }
      ]
    },
    {
      "cell_type": "code",
      "metadata": {
        "id": "eMl_wFsiLs2K"
      },
      "source": [
        "#loss = model.fit(datagen.flow(X, y, batch_size=32),  batch_size = 256, epochs=20) # datagen.flow(x_train, y_train, batch_size=32)  \n",
        "loss = model.fit(X, y,  batch_size = 1024, epochs=10 , validation_split=0.2)"
      ],
      "execution_count": null,
      "outputs": []
    },
    {
      "cell_type": "code",
      "metadata": {
        "id": "wTuxju4SO2bN",
        "colab": {
          "base_uri": "https://localhost:8080/",
          "height": 283
        },
        "outputId": "2bfbe27a-ab3b-4fe6-9004-094c8acd6f67"
      },
      "source": [
        "pd.DataFrame(loss.history).plot()\n",
        "pred = model.predict(X).argmax(axis=1)\n",
        "print('Accuracy on test set - {0:.02%}'.format((pred == y).mean()))"
      ],
      "execution_count": null,
      "outputs": [
        {
          "output_type": "stream",
          "text": [
            "Accuracy on test set - 99.94%\n"
          ],
          "name": "stdout"
        },
        {
          "output_type": "display_data",
          "data": {
            "image/png": "[encoded data removed]",
            "text/plain": [
              "<Figure size 432x288 with 1 Axes>"
            ]
          },
          "metadata": {
            "tags": [],
            "needs_background": "light"
          }
        }
      ]
    },
    {
      "cell_type": "code",
      "metadata": {
        "id": "6ZlT6bW-LMc3"
      },
      "source": [
        "model.save('model.h5')"
      ],
      "execution_count": null,
      "outputs": []
    },
    {
      "cell_type": "code",
      "metadata": {
        "id": "mxBNJSAwgIu2"
      },
      "source": [
        "\n",
        "#Train set accuracy 99.99% Validation set accuracy 99.98% Test set accuracy 99.84%"
      ],
      "execution_count": null,
      "outputs": []
    }
  ]
}