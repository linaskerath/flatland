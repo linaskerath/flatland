{
  "nbformat": 4,
  "nbformat_minor": 0,
  "metadata": {
    "colab": {
      "name": "FL2.ipynb",
      "provenance": [],
      "collapsed_sections": []
    },
    "kernelspec": {
      "name": "python3",
      "display_name": "Python 3"
    },
    "accelerator": "GPU"
  },
  "cells": [
    {
      "cell_type": "code",
      "metadata": {
        "colab": {
          "base_uri": "https://localhost:8080/"
        },
        "id": "a0GZTF4D8LRt",
        "outputId": "525991e7-4488-4bf9-81ad-9983acbbc65e"
      },
      "source": [
        "import tensorflow.keras as keras\n",
        "from tensorflow.keras.layers import Dense, Input\n",
        "from tensorflow.keras.models import Sequential\n",
        "from tensorflow.keras.optimizers import Adam\n",
        "import matplotlib.pyplot as plt\n",
        "import numpy as np\n",
        "import pandas as pd\n",
        "from google.colab import drive\n",
        "import pickle\n",
        "import gzip\n",
        "\n",
        "drive.mount('/content/drive')"
      ],
      "execution_count": null,
      "outputs": [
        {
          "output_type": "stream",
          "text": [
            "Mounted at /content/drive\n"
          ],
          "name": "stdout"
        }
      ]
    },
    {
      "cell_type": "code",
      "metadata": {
        "id": "e0wPC0IF8T55"
      },
      "source": [
        "X, y = pickle.load(gzip.open('/content/drive/My Drive/flatland/flatland_train.data', 'rb'))\n",
        "y[y != 0] -= 2\n",
        "#X = X/255. for DNN"
      ],
      "execution_count": null,
      "outputs": []
    },
    {
      "cell_type": "code",
      "metadata": {
        "id": "myErEDFOK4ET"
      },
      "source": [
        "# Augmentation\n",
        "from keras.preprocessing.image import ImageDataGenerator, array_to_img, img_to_array, load_img\n",
        "\n",
        "datagen = ImageDataGenerator(\n",
        "        rotation_range=360,\n",
        "        width_shift_range=0,\n",
        "        height_shift_range=0,\n",
        "        shear_range=0.3,\n",
        "        zoom_range=0,\n",
        "        horizontal_flip=True,\n",
        "        fill_mode='nearest',\n",
        "        vertical_flip=True\n",
        "        )"
      ],
      "execution_count": null,
      "outputs": []
    },
    {
      "cell_type": "code",
      "metadata": {
        "id": "aKEwU6PV8T8u"
      },
      "source": [
        "# X[1].shape\n",
        "X = X.reshape(X.shape[0], 50, 50, 1)"
      ],
      "execution_count": null,
      "outputs": []
    },
    {
      "cell_type": "code",
      "metadata": {
        "id": "RKsqMArALAIx"
      },
      "source": [
        "datagen.fit(X) # augmentation step2"
      ],
      "execution_count": null,
      "outputs": []
    },
    {
      "cell_type": "code",
      "metadata": {
        "id": "Fjt30xsSN929"
      },
      "source": [
        "model = keras.models.Sequential()\n",
        "model.add(keras.layers.Flatten(input_shape=[50, 50]))\n",
        "model.add(keras.layers.Dense(128, activation=\"relu\"))\n",
        "model.add(keras.layers.Dense(64, activation=\"relu\"))\n",
        "model.add(keras.layers.Dense(5, activation=\"softmax\"))\n",
        "model.compile(loss=\"sparse_categorical_crossentropy\",\n",
        "              optimizer=\"adam\",\n",
        "              metrics=[\"accuracy\"])\n",
        "model.summary()"
      ],
      "execution_count": null,
      "outputs": []
    },
    {
      "cell_type": "code",
      "metadata": {
        "colab": {
          "base_uri": "https://localhost:8080/"
        },
        "id": "DhFbNGAjjEz5",
        "outputId": "75440fa6-2f15-47fd-8448-761632eec27e"
      },
      "source": [
        "from tensorflow.keras.layers import Dense, Input, Flatten, Conv2D, BatchNormalization, \\\n",
        "                                    Activation, Dropout, MaxPooling2D, MaxPool2D\n",
        "\n",
        "\n",
        "model = Sequential()\n",
        "model.add(Conv2D(64, kernel_size=(3, 3), input_shape=[50, 50, 1]))\n",
        "model.add(BatchNormalization(axis=-1)) \n",
        "model.add(MaxPooling2D(pool_size=(2, 2))) #!\n",
        "model.add(Dropout(0.12)) #!\n",
        "\n",
        "#model.add(Activation(\"relu\"))\n",
        "#model.add(Conv2D(32, (3, 3), activation='relu'))\n",
        "model.add(Conv2D(filters=128, kernel_size=(3,3), padding=\"same\", activation=\"relu\"))\n",
        "\n",
        "model.add(BatchNormalization(axis=-1))\n",
        "\n",
        "#model.add(Activation(\"relu\"))\n",
        "model.add(Conv2D(filters=256, kernel_size=(3,3), padding=\"same\", activation=\"relu\"))\n",
        "\n",
        "model.add(MaxPooling2D(pool_size=(2, 2)))\n",
        "model.add(BatchNormalization(axis=-1))\n",
        "model.add(Flatten())\n",
        "model.add(Dense(64, activation='relu'))\n",
        "model.add(Dropout(0.2))\n",
        "model.add(Dense(10, activation='softmax'))\n",
        "\n",
        "\n",
        "#from keras.optimizers import Adam\n",
        "opt = Adam(lr=3e-4) #0.001\n",
        "\n",
        "model.compile(loss=\"sparse_categorical_crossentropy\",\n",
        "              optimizer=opt,\n",
        "              metrics=[\"accuracy\"])\n",
        "model.summary()"
      ],
      "execution_count": null,
      "outputs": [
        {
          "output_type": "stream",
          "text": [
            "Model: \"sequential_1\"\n",
            "_________________________________________________________________\n",
            "Layer (type)                 Output Shape              Param #   \n",
            "=================================================================\n",
            "conv2d_3 (Conv2D)            (None, 48, 48, 64)        640       \n",
            "_________________________________________________________________\n",
            "batch_normalization_3 (Batch (None, 48, 48, 64)        256       \n",
            "_________________________________________________________________\n",
            "max_pooling2d_2 (MaxPooling2 (None, 24, 24, 64)        0         \n",
            "_________________________________________________________________\n",
            "dropout_2 (Dropout)          (None, 24, 24, 64)        0         \n",
            "_________________________________________________________________\n",
            "conv2d_4 (Conv2D)            (None, 24, 24, 128)       73856     \n",
            "_________________________________________________________________\n",
            "batch_normalization_4 (Batch (None, 24, 24, 128)       512       \n",
            "_________________________________________________________________\n",
            "conv2d_5 (Conv2D)            (None, 24, 24, 256)       295168    \n",
            "_________________________________________________________________\n",
            "max_pooling2d_3 (MaxPooling2 (None, 12, 12, 256)       0         \n",
            "_________________________________________________________________\n",
            "batch_normalization_5 (Batch (None, 12, 12, 256)       1024      \n",
            "_________________________________________________________________\n",
            "flatten_1 (Flatten)          (None, 36864)             0         \n",
            "_________________________________________________________________\n",
            "dense_2 (Dense)              (None, 64)                2359360   \n",
            "_________________________________________________________________\n",
            "dropout_3 (Dropout)          (None, 64)                0         \n",
            "_________________________________________________________________\n",
            "dense_3 (Dense)              (None, 10)                650       \n",
            "=================================================================\n",
            "Total params: 2,731,466\n",
            "Trainable params: 2,730,570\n",
            "Non-trainable params: 896\n",
            "_________________________________________________________________\n"
          ],
          "name": "stdout"
        }
      ]
    },
    {
      "cell_type": "code",
      "metadata": {
        "id": "cybamUXijE54"
      },
      "source": [
        ""
      ],
      "execution_count": null,
      "outputs": []
    },
    {
      "cell_type": "code",
      "metadata": {
        "id": "8xTggIfZ-ERV"
      },
      "source": [
        "X = np.repeat(X[:,:,:],3, -1)/ 255. #.shape   \n",
        "#np.repeat(X[:,:,:],3, -1).shape   "
      ],
      "execution_count": null,
      "outputs": []
    },
    {
      "cell_type": "code",
      "metadata": {
        "id": "p0Z5QlNy-ZV1"
      },
      "source": [
        "vgg = keras.applications.VGG16(weights='imagenet', include_top=False, input_shape=(50, 50, 3))"
      ],
      "execution_count": null,
      "outputs": []
    },
    {
      "cell_type": "code",
      "metadata": {
        "colab": {
          "base_uri": "https://localhost:8080/"
        },
        "id": "fsdPSF5v-emf",
        "outputId": "2619346c-61bf-4f65-b25f-ee3c5ea2017a"
      },
      "source": [
        "# Adding new trainable Dense layers\n",
        "inputs = keras.layers.Input(shape=(50, 50, 3))\n",
        "# # upsample??: (because less than 32,32)\n",
        "#upsampled = keras.layers.UpSampling2D((2,2))(inputs)\n",
        "\n",
        "embedding = vgg(inputs)\n",
        "#embedding = mobile_net(upsampled)\n",
        "output = keras.layers.Dense(64, activation='relu')(embedding)\n",
        "# Output shape for sure is problem dependant, but this should give you the idea\n",
        "output = keras.layers.Flatten()(embedding)\n",
        "output = keras.layers.Dense(10, activation='softmax')(output)\n",
        "# Build the model\n",
        "model = keras.models.Model(inputs=inputs, outputs=output)\n",
        "model.summary()"
      ],
      "execution_count": null,
      "outputs": [
        {
          "output_type": "stream",
          "text": [
            "Model: \"functional_1\"\n",
            "_________________________________________________________________\n",
            "Layer (type)                 Output Shape              Param #   \n",
            "=================================================================\n",
            "input_2 (InputLayer)         [(None, 50, 50, 3)]       0         \n",
            "_________________________________________________________________\n",
            "vgg16 (Functional)           (None, 1, 1, 512)         14714688  \n",
            "_________________________________________________________________\n",
            "flatten (Flatten)            (None, 512)               0         \n",
            "_________________________________________________________________\n",
            "dense_1 (Dense)              (None, 10)                5130      \n",
            "=================================================================\n",
            "Total params: 14,719,818\n",
            "Trainable params: 14,719,818\n",
            "Non-trainable params: 0\n",
            "_________________________________________________________________\n"
          ],
          "name": "stdout"
        }
      ]
    },
    {
      "cell_type": "code",
      "metadata": {
        "id": "OuFp5X2ZATMs"
      },
      "source": [
        "opt = Adam(lr=3e-4) #0.001\n",
        "\n",
        "model.compile(loss=\"sparse_categorical_crossentropy\",\n",
        "              optimizer=opt,\n",
        "              metrics=[\"accuracy\"])"
      ],
      "execution_count": null,
      "outputs": []
    },
    {
      "cell_type": "code",
      "metadata": {
        "colab": {
          "base_uri": "https://localhost:8080/"
        },
        "id": "t7NexbKJ8UFI",
        "outputId": "b8b40611-47f1-4a6f-9240-fa75cdb3fc98"
      },
      "source": [
        "loss = model.fit(X, y, epochs=18, batch_size = 128, validation_split=0.2)"
      ],
      "execution_count": null,
      "outputs": [
        {
          "output_type": "stream",
          "text": [
            "Epoch 1/18\n",
            "63/63 [==============================] - 3s 44ms/step - loss: 1.6007 - accuracy: 0.4002 - val_loss: 1.6042 - val_accuracy: 0.4130\n",
            "Epoch 2/18\n",
            "63/63 [==============================] - 2s 38ms/step - loss: 0.9786 - accuracy: 0.6129 - val_loss: 1.5286 - val_accuracy: 0.3115\n",
            "Epoch 3/18\n",
            "63/63 [==============================] - 2s 38ms/step - loss: 0.6575 - accuracy: 0.7287 - val_loss: 2.3498 - val_accuracy: 0.3240\n",
            "Epoch 4/18\n",
            "63/63 [==============================] - 2s 39ms/step - loss: 0.4521 - accuracy: 0.8084 - val_loss: 1.6733 - val_accuracy: 0.4075\n",
            "Epoch 5/18\n",
            "63/63 [==============================] - 2s 39ms/step - loss: 0.2782 - accuracy: 0.8919 - val_loss: 2.5359 - val_accuracy: 0.3855\n",
            "Epoch 6/18\n",
            "63/63 [==============================] - 2s 39ms/step - loss: 0.1910 - accuracy: 0.9246 - val_loss: 2.3061 - val_accuracy: 0.4565\n",
            "Epoch 7/18\n",
            "63/63 [==============================] - 2s 39ms/step - loss: 0.1288 - accuracy: 0.9523 - val_loss: 3.0692 - val_accuracy: 0.4185\n",
            "Epoch 8/18\n",
            "63/63 [==============================] - 2s 39ms/step - loss: 0.0851 - accuracy: 0.9711 - val_loss: 4.0241 - val_accuracy: 0.3885\n",
            "Epoch 9/18\n",
            "63/63 [==============================] - 2s 38ms/step - loss: 0.0753 - accuracy: 0.9735 - val_loss: 0.4871 - val_accuracy: 0.7945\n",
            "Epoch 10/18\n",
            "63/63 [==============================] - 2s 39ms/step - loss: 0.0471 - accuracy: 0.9861 - val_loss: 0.8374 - val_accuracy: 0.7070\n",
            "Epoch 11/18\n",
            "63/63 [==============================] - 2s 38ms/step - loss: 0.0442 - accuracy: 0.9845 - val_loss: 2.6228 - val_accuracy: 0.5060\n",
            "Epoch 12/18\n",
            "63/63 [==============================] - 2s 38ms/step - loss: 0.0343 - accuracy: 0.9890 - val_loss: 0.4258 - val_accuracy: 0.8305\n",
            "Epoch 13/18\n",
            "63/63 [==============================] - 2s 38ms/step - loss: 0.0258 - accuracy: 0.9915 - val_loss: 0.3964 - val_accuracy: 0.8545\n",
            "Epoch 14/18\n",
            "63/63 [==============================] - 2s 38ms/step - loss: 0.0262 - accuracy: 0.9916 - val_loss: 0.2344 - val_accuracy: 0.9135\n",
            "Epoch 15/18\n",
            "63/63 [==============================] - 2s 38ms/step - loss: 0.0186 - accuracy: 0.9941 - val_loss: 1.2469 - val_accuracy: 0.7135\n",
            "Epoch 16/18\n",
            "63/63 [==============================] - 2s 38ms/step - loss: 0.0284 - accuracy: 0.9912 - val_loss: 0.0685 - val_accuracy: 0.9740\n",
            "Epoch 17/18\n",
            "63/63 [==============================] - 2s 38ms/step - loss: 0.0299 - accuracy: 0.9902 - val_loss: 0.0682 - val_accuracy: 0.9715\n",
            "Epoch 18/18\n",
            "63/63 [==============================] - 2s 38ms/step - loss: 0.0142 - accuracy: 0.9949 - val_loss: 0.2786 - val_accuracy: 0.9020\n"
          ],
          "name": "stdout"
        }
      ]
    },
    {
      "cell_type": "code",
      "metadata": {
        "colab": {
          "base_uri": "https://localhost:8080/",
          "height": 283
        },
        "id": "q48a121K8UHx",
        "outputId": "39609ddf-fe95-4369-e786-67201c4d236e"
      },
      "source": [
        "pd.DataFrame(loss.history).plot()\n",
        "pred = model.predict(X).argmax(axis=1)\n",
        "print('Accuracy on test set - {0:.02%}'.format((pred == y).mean()))"
      ],
      "execution_count": null,
      "outputs": [
        {
          "output_type": "stream",
          "text": [
            "Accuracy on test set - 92.73%\n"
          ],
          "name": "stdout"
        },
        {
          "output_type": "display_data",
          "data": {
            "image/png": "[encoded data removed]",
            "text/plain": [
              "<Figure size 432x288 with 1 Axes>"
            ]
          },
          "metadata": {
            "tags": [],
            "needs_background": "light"
          }
        }
      ]
    },
    {
      "cell_type": "code",
      "metadata": {
        "id": "MPTCPRXN8UKr"
      },
      "source": [
        "model.save('model.h5')"
      ],
      "execution_count": null,
      "outputs": []
    },
    {
      "cell_type": "code",
      "metadata": {
        "id": "JJujsFmp8UNW"
      },
      "source": [
        "def evaluate(path, model):\n",
        "    X, y = pickle.load(gzip.open(path, 'rb'))\n",
        "    y[y != 0] -= 2\n",
        "    X = X / 255.\n",
        "    acc = np.mean(model(X).numpy().argmax(axis=1) == y, batch =16)\n",
        "    return acc\n",
        "\n",
        "model = keras.models.load_model('model.h5')\n",
        "evaluate('flatland_train.data', model)"
      ],
      "execution_count": null,
      "outputs": []
    },
    {
      "cell_type": "code",
      "metadata": {
        "id": "vY-u7teY8UYv"
      },
      "source": [
        ""
      ],
      "execution_count": null,
      "outputs": []
    },
    {
      "cell_type": "markdown",
      "metadata": {
        "id": "PRuwOo7gJbEt"
      },
      "source": [
        "## Teorija\n"
      ]
    },
    {
      "cell_type": "markdown",
      "metadata": {
        "id": "qTxA0BJGJUvA"
      },
      "source": [
        "https://towardsdatascience.com/wtf-is-image-classification-8e78a8235acb (The Complete Beginner’s Guide to Deep Learning: Convolutional Neural Networks and Image Classification)\n",
        "\n",
        "https://theaisummer.com/skip-connections/ (skip connections)\n",
        "\n",
        " https://towardsdatascience.com/step-by-step-vgg16-implementation-in-keras-for-beginners-a833c686ae6c (VGG16)\n",
        "\n",
        " https://www.pyimagesearch.com/2019/07/08/keras-imagedatagenerator-and-data-augmentation/"
      ]
    },
    {
      "cell_type": "markdown",
      "metadata": {
        "id": "pNccvZmBJjup"
      },
      "source": [
        "\n",
        "\n",
        "-batch (standartinis modely pasleptas batch dydis yra 32) dense yr inputo dauginimas is matricos (bias termas uzsleptas - vienetas kuri reikia prideti)\n",
        "\n",
        "-sparse reiskia kad tingiu konvertuot i one hot, rpochu gali buti bet kiek model fit i guess pasleptai maiso eilutes vietomis kiekvienai epochai\n",
        "\n",
        "-galima keisti learing rate (sgd (ties compile), optimizer = SGD(learning_rate = 0.01 (standartinis, galima didinti gal)) optimizeriu yra ir kitu, pvz ADAMAS jei yra nestabilumu loss kreiveje, reik kaltinti learning rate arba dataseta\n",
        "\n",
        "-bus budu, kaip padaryti modeli stabilesniu\n",
        "\n",
        "-adamas keiciu learning rate, priklausomai nuo paklaidos dydzio (accuracy), ty is pradziu lr didelis, paskui mazina. taip pat, loss kreive greiciau krenta, bet greit overfittina, veliau bus kaip tvarkytis su tuo.\n",
        "\n",
        "-is loss daznai lengviau skaityt kas vyksta su modeliu, nes pagal ji yra optimiz, isryskina paklaidas treniravimo metu.\n",
        "\n",
        "-su daug sluoksniu atsirand avanishing gradient problema. pirmas sl sugers daugiausia paklaidos. o i gala su daugiausia parametru atkeliauja maziausiai inf apie paklaida kuri buvo padaryta gale. Su daugiua sluoksniu (10,100) pasimatytu vanish gr problema ir neitu treniruot modelio, butu prasta acccuracy. Veliau parodys triuku kaip susitvarkyt. pav ir kt. ten yra 40, 50sl ir pan--- triukai su skip conectoriais. velaiu dar mokys kaip padaryt kad modelis gerai generalizuotusi\n",
        "\n",
        "-padidinus tripria svoriu/param kieki, modelis darosi galingesnis(LOTTERY TICKET STARPSNIS), mintis - daug neuronu 'numirsta' - tampa nuliais. sudinas modelis(sgd ir siaip paprastas) gereja su daug param.\n",
        "\n",
        "-nenutrone ggalima pamatyt kaip inicijuoja svoriu ir jei idomu paskaityt\n",
        "\n",
        "-overfito atveju - dropoutas. mintis - neuronai isimena inputo pav. nereik neuronu, kurie moka tik viena uzd. kur yra dense sluoksniu, veikia gerai, kai jau convoliuciniai - nebe. kai kurie neuronai isjungiami (neatnaujinami) vienam treniravimo etape, tada - kiti. dropoutas dedasi po sluoksniu (dense)\n",
        "\n",
        "-learning rate, sluoksnui kiekis (64,32), dropout rate (tradiciskai pask - 0.2, retai kuris virs 0.5), optimizer,\n"
      ]
    },
    {
      "cell_type": "markdown",
      "metadata": {
        "id": "2Cx85T7NJmV2"
      },
      "source": [
        "yra ir learn2 # cia tik kitokia sintakse image = keras.layers.Input(Shape = 28,28) out = keras.layers.Flatten()(image)\n",
        "\n",
        "skip_1 = keras.layers.Dense(50, activation = 'relu')(out) out = keras.layers.Dense(50, activation = 'relu')(skip_1) out = keras.layers.Dense(50, activation = 'relu')(out)\n",
        "\n",
        "skip_2 = keras.layers.Dense(50, activation = 'relu')(out) out = keras.layers.Dense(50, activation = 'relu')(skip_2) out = keras.layers.Dense(50, activation = 'relu')(out)\n",
        "\n",
        "out = keras.layers.Dense(10, activation = 'softmax')(out) model = keras.models.Model(inputs = image, outputs = out)\n",
        "\n",
        "model.compile(loss = '')"
      ]
    },
    {
      "cell_type": "markdown",
      "metadata": {
        "id": "c9X2z8d3JyZE"
      },
      "source": [
        "-CNN\n",
        "Filtras: (teoriskai)\n",
        "mazyte matrica, kuria stumiam per paveiksliuka ri gaunam dot produkta.\n",
        "ir ta verte kuria gaunam irasom\n",
        "einam per eilutes iri stulpelius (tam yra for ciklai funkcijoje, kuria jis parase) \n",
        "\n",
        "\n",
        "(norint islaikyti forma (kad nemazetu) reikia sonuose paddinga ('valid', 'same') padaryt(prideti tusciu eil ir stulp)), svoriai sumuojasi i vieneta ar nuli\n",
        "\n",
        "conv = Conv2D(filters=1, kernel_size=(3, 3), padding='VALID') # konvoliucija, vertes nustatomos randomly, \n",
        "conv(X[np.newaxis, :, :, np.newaxis].astype('float32')).shape   #pridedam asis (), nes vienas pav, gale 1 , nes grayscale 1 verte (rgb-3)\n",
        "\n",
        "- input_shape = vienetas svarbus nes pav turi sluoksnius (spalvas?), galimai duosim sluoksni, kuris reshapina\n",
        "- naudojant adama gerai nurodyt learning rate -  lr = 3e-4  \n",
        "\n",
        "- ideti subsamplinga? - max pooling sutarukia\n",
        "- batch normalizacija  - leidzia isvengti exploding gradient problemos; gerai po konvoliuciju pries dense ; tarp dense dropoutas (retai dedamas tarp konvoliuciju , bet dropout ir batch norm beveik tas pats tik antras greitesnis)\n",
        "\n",
        "- yra dar viena nuoroda kaip su tenserboardu\n",
        "\n",
        "- data augmentation??? uuuuh fancy"
      ]
    },
    {
      "cell_type": "markdown",
      "metadata": {
        "id": "_AOaXo0EJ9WQ"
      },
      "source": [
        "- nupjausim ties konvoliuciniu tinklu pa baiga\n",
        "- Kartais apsimoka kuri laika gala treniruot  otik tada visa\n",
        "\n",
        "-vgg = keras.applications.VGG16(weights='imagenet', include_top=False, input_shape=(50, 50, 3))\n",
        "- arba\n",
        "- mobile_net = keras.applications.MobileNet(weights = 'imagenet', include_top = False, input_shape = (32, 32, 3))\n",
        "\n",
        "-gala reik nupjauti ir padaryt 10 outputu\n",
        "\n",
        "(X_train, y_train), (X_test, y_test) = keras.datasets.fashion_mnist.load_data()\n",
        "\n",
        "\n",
        "X_train = np.repeat(X_train[:,:,:, np.newaxis],3, -1)/ 255. #.shape   # glaimai reikia pirma atimti vidurki ir tik tada dalinti\n",
        "X_test = np.repeat(X_test[:,:,:, np.newaxis],3, -1)/ 255."
      ]
    },
    {
      "cell_type": "markdown",
      "metadata": {
        "id": "4sM2uEMqKCfg"
      },
      "source": [
        "vgg = keras.applications.VGG16(weights='imagenet', include_top=False, input_shape=(56, 56, 3))\n",
        "\n",
        "- Let's fix those weights\n",
        "for layer in vgg.layers:\n",
        "    layer.trainable = False\n",
        "    \n",
        "- Adding new trainable Dense layers\n",
        "inputs = keras.layers.Input(shape=(28, 28, 3))\n",
        "- upsample??: (because less than 32,32)\n",
        "upsampled = keras.layers.UpSampling2D((2,2))(inputs)\n",
        "\n",
        "-embedding = vgg(inputs)embedding = vgg(inputs)\n",
        "-embedding = mobile_net(upsampled)\n",
        "output = keras.layers.Dense(42, activation='relu')(embedding)\n",
        "- Output shape for sure is problem dependant, but this should give you the idea\n",
        "output = keras.layers.Dense(10, activation='softmax')(output)\n",
        "- Build the model\n",
        "model = keras.models.Model(inputs=inputs, outputs=output)\n",
        "model.summary()"
      ]
    },
    {
      "cell_type": "code",
      "metadata": {
        "id": "V1QH4c3UJTJl"
      },
      "source": [
        ""
      ],
      "execution_count": null,
      "outputs": []
    }
  ]
}